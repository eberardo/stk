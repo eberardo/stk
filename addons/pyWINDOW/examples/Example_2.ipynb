{
 "cells": [
  {
   "cell_type": "code",
   "execution_count": 4,
   "metadata": {
    "ExecuteTime": {
     "end_time": "2017-08-01T16:17:25.752563+01:00",
     "start_time": "2017-08-01T16:17:25.748746"
    },
    "collapsed": true
   },
   "outputs": [],
   "source": [
    "from rdkit import Chem\n",
    "from pywindow import MolecularSystem"
   ]
  },
  {
   "cell_type": "code",
   "execution_count": 8,
   "metadata": {
    "ExecuteTime": {
     "end_time": "2017-08-01T16:18:57.893005+01:00",
     "start_time": "2017-08-01T16:18:57.839635"
    }
   },
   "outputs": [
    {
     "data": {
      "text/plain": [
       "<rdkit.Chem.rdchem.Mol at 0x10f177e90>"
      ]
     },
     "execution_count": 8,
     "metadata": {},
     "output_type": "execute_result"
    }
   ],
   "source": [
    "rdkit_mol = rdkit.Chem.MolFromMol2File(\"data/PUDXES.mol2\")\n",
    "rdkit_mol"
   ]
  },
  {
   "cell_type": "code",
   "execution_count": 11,
   "metadata": {
    "ExecuteTime": {
     "end_time": "2017-08-01T16:19:33.610263+01:00",
     "start_time": "2017-08-01T16:19:33.600796"
    }
   },
   "outputs": [
    {
     "data": {
      "text/plain": [
       "<pywindow.molecular.MolecularSystem at 0x10f17cf60>"
      ]
     },
     "execution_count": 11,
     "metadata": {},
     "output_type": "execute_result"
    }
   ],
   "source": [
    "molsys = MolecularSystem.load_rdkit_mol(rdkit_mol)\n",
    "molsys"
   ]
  },
  {
   "cell_type": "code",
   "execution_count": 12,
   "metadata": {
    "ExecuteTime": {
     "end_time": "2017-08-01T16:19:55.380641+01:00",
     "start_time": "2017-08-01T16:19:55.376776"
    },
    "collapsed": true
   },
   "outputs": [],
   "source": [
    "mol = molsys.system_to_molecule()"
   ]
  },
  {
   "cell_type": "code",
   "execution_count": 13,
   "metadata": {
    "ExecuteTime": {
     "end_time": "2017-08-01T16:20:04.983524+01:00",
     "start_time": "2017-08-01T16:20:02.353032"
    }
   },
   "outputs": [
    {
     "data": {
      "text/plain": [
       "{'centre_of_mass': array([ 12.4,  12.4,  12.4]),\n",
       " 'maximum_diameter': {'atom_1': 6,\n",
       "  'atom_2': 69,\n",
       "  'diameter': 21.77602100564755},\n",
       " 'no_of_atoms': 84,\n",
       " 'void_diameter': {'atom': 36, 'diameter': 5.3970201773100097},\n",
       " 'void_diameter_opt': {'atom_1': 36,\n",
       "  'centre_of_mass': array([ 12.4,  12.4,  12.4]),\n",
       "  'diameter': 5.3970201773100097},\n",
       " 'void_volume': 82.311543851543604,\n",
       " 'void_volume_opt': 82.311543851543604,\n",
       " 'windows': {'centre_of_mass': array([[ 10.77301184,  10.7730221 ,  14.02703257],\n",
       "         [ 13.79686354,  13.76405075,  13.80095905],\n",
       "         [ 10.98899309,  13.82565538,  10.96543325],\n",
       "         [ 13.94105869,  10.85893743,  10.85890308]]),\n",
       "  'diameter': array([ 3.63748192,  3.58960428,  3.6059401 ,  3.62912867])}}"
      ]
     },
     "execution_count": 13,
     "metadata": {},
     "output_type": "execute_result"
    }
   ],
   "source": [
    "mol.full_analysis()"
   ]
  },
  {
   "cell_type": "code",
   "execution_count": null,
   "metadata": {
    "collapsed": true
   },
   "outputs": [],
   "source": []
  }
 ],
 "metadata": {
  "kernelspec": {
   "display_name": "Python [conda env:my-rdkit-env]",
   "language": "python",
   "name": "conda-env-my-rdkit-env-py"
  },
  "language_info": {
   "codemirror_mode": {
    "name": "ipython",
    "version": 3
   },
   "file_extension": ".py",
   "mimetype": "text/x-python",
   "name": "python",
   "nbconvert_exporter": "python",
   "pygments_lexer": "ipython3",
   "version": "3.5.2"
  }
 },
 "nbformat": 4,
 "nbformat_minor": 2
}
