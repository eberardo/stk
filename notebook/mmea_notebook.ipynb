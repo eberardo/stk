{
 "cells": [
  {
   "cell_type": "markdown",
   "metadata": {
    "collapsed": true
   },
   "source": [
    "# This notebook must be placed in the same directory as MMEA.\n",
    "# It will not work if run from within MMEA"
   ]
  },
  {
   "cell_type": "markdown",
   "metadata": {},
   "source": [
    " "
   ]
  },
  {
   "cell_type": "markdown",
   "metadata": {},
   "source": [
    "# 1. Building Macromolecules"
   ]
  },
  {
   "cell_type": "markdown",
   "metadata": {},
   "source": [
    "A recyclable code snippet for building macromolecules is provided here. To understand what's going on see below."
   ]
  },
  {
   "cell_type": "code",
   "execution_count": 11,
   "metadata": {
    "collapsed": false
   },
   "outputs": [],
   "source": [
    "from mmea import StructUnit2, StructUnit3, Cage, FourPlusSix\n",
    "\n",
    "bb1 = StructUnit2('mmea/notebook/amine.mol')\n",
    "bb2 = StructUnit3('mmea/notebook/aldehyde.mol2')\n",
    "cage = Cage((bb1, bb2), FourPlusSix, 'cage.mol')\n"
   ]
  },
  {
   "cell_type": "markdown",
   "metadata": {},
   "source": [
    "A macromolecule is built by combing its various component molecules. In this example, macromolecules known as \"cages\" will be be built. However, the procedure will be the same for all macromolecules."
   ]
  },
  {
   "cell_type": "markdown",
   "metadata": {},
   "source": [
    "Cages are built from two kinds of component molecules, known as \"linkers\" and \"building blocks\". To build a cage a number of linkers and building blocks are joined together. The number of linkers used to build a cage is always smaller than the number of building blocks. If equal amounts of component molecules were used to build the cage, then they are all known as building blocks. \n",
    "\n",
    "Many cages are built from a linker with 2 functional groups and a building block with 3 functional groups. To create a component molecule with 2 functional groups the \"StructUnit2\" class must be used. To create a component molecule with 3 or more functional groups the \"StructUnit3\" class must be used.\n",
    "\n",
    "\"StructUnit2\" means that the molecule is a structural unit of a macromolecule and has 2 functional groups. \"StructUnit3\" means that the molecule is a structural unit of a macromolecule and has 3 or more functional groups."
   ]
  },
  {
   "cell_type": "code",
   "execution_count": 1,
   "metadata": {
    "collapsed": false
   },
   "outputs": [],
   "source": [
    "from mmea import StructUnit2, StructUnit3"
   ]
  },
  {
   "cell_type": "markdown",
   "metadata": {
    "collapsed": true
   },
   "source": [
    "Creating the linker and building block molecules is simple. Just give the the structure file of the molecule (\".mol\", \".pdb\", \".mol2\", etc.)  to the appropriate class:"
   ]
  },
  {
   "cell_type": "code",
   "execution_count": 3,
   "metadata": {
    "collapsed": false
   },
   "outputs": [],
   "source": [
    "# Write the file paths as \"mmea/notebook/amine.mol\" or \"mmea\\notebook\\amine.mol\"\n",
    "# depending on the OS.\n",
    "import os\n",
    "lk_path = os.path.join('mmea', 'notebook', 'amine.mol')\n",
    "bb_path = os.path.join('mmea', 'notebook', 'aldehyde.mol2')\n",
    "\n",
    "linker = StructUnit2(lk_path)\n",
    "building_block = StructUnit3(bb_path)"
   ]
  },
  {
   "cell_type": "markdown",
   "metadata": {},
   "source": [
    "When creating a new \"StructUnit\" object a directory \"HEAVY\" will be created in your current working directory. This directory holds the molecules you just created with the functional groups replaced with heavy atoms.\n",
    "\n",
    "How does MMEA know which functional groups to replace with heavy atoms? It checks to see if the name of a functional group is anywhere in the path provided. If it is not, an error will be raised and the object will not be created."
   ]
  },
  {
   "cell_type": "code",
   "execution_count": 5,
   "metadata": {
    "collapsed": false
   },
   "outputs": [
    {
     "ename": "AttributeError",
     "evalue": "'NoneType' object has no attribute 'smarts_start'",
     "output_type": "error",
     "traceback": [
      "\u001b[0;31m---------------------------------------------------------------------------\u001b[0m",
      "\u001b[0;31mAttributeError\u001b[0m                            Traceback (most recent call last)",
      "\u001b[0;32m<ipython-input-5-88f440cb9068>\u001b[0m in \u001b[0;36m<module>\u001b[0;34m()\u001b[0m\n\u001b[1;32m      1\u001b[0m \u001b[0minvalid_linker_path\u001b[0m \u001b[0;34m=\u001b[0m \u001b[0mos\u001b[0m\u001b[0;34m.\u001b[0m\u001b[0mpath\u001b[0m\u001b[0;34m.\u001b[0m\u001b[0mjoin\u001b[0m\u001b[0;34m(\u001b[0m\u001b[0;34m'mmea'\u001b[0m\u001b[0;34m,\u001b[0m \u001b[0;34m'notebook'\u001b[0m\u001b[0;34m,\u001b[0m \u001b[0;34m'molecule.mol'\u001b[0m\u001b[0;34m)\u001b[0m\u001b[0;34m\u001b[0m\u001b[0m\n\u001b[0;32m----> 2\u001b[0;31m \u001b[0minvalid_linker\u001b[0m \u001b[0;34m=\u001b[0m \u001b[0mStructUnit2\u001b[0m\u001b[0;34m(\u001b[0m\u001b[0minvalid_linker_path\u001b[0m\u001b[0;34m)\u001b[0m\u001b[0;34m\u001b[0m\u001b[0m\n\u001b[0m",
      "\u001b[0;32m/home/lukas/Projects/MMEA/devel/mmea/classes/molecular.py\u001b[0m in \u001b[0;36m__call__\u001b[0;34m(self, *args, **kwargs)\u001b[0m\n\u001b[1;32m    104\u001b[0m             \u001b[0;32mreturn\u001b[0m \u001b[0mself\u001b[0m\u001b[0;34m.\u001b[0m\u001b[0m__cache\u001b[0m\u001b[0;34m[\u001b[0m\u001b[0mkey\u001b[0m\u001b[0;34m]\u001b[0m\u001b[0;34m\u001b[0m\u001b[0m\n\u001b[1;32m    105\u001b[0m         \u001b[0;32melse\u001b[0m\u001b[0;34m:\u001b[0m\u001b[0;34m\u001b[0m\u001b[0m\n\u001b[0;32m--> 106\u001b[0;31m             \u001b[0mobj\u001b[0m \u001b[0;34m=\u001b[0m \u001b[0msuper\u001b[0m\u001b[0;34m(\u001b[0m\u001b[0;34m)\u001b[0m\u001b[0;34m.\u001b[0m\u001b[0m__call__\u001b[0m\u001b[0;34m(\u001b[0m\u001b[0;34m*\u001b[0m\u001b[0margs\u001b[0m\u001b[0;34m,\u001b[0m \u001b[0;34m**\u001b[0m\u001b[0mkwargs\u001b[0m\u001b[0;34m)\u001b[0m\u001b[0;34m\u001b[0m\u001b[0m\n\u001b[0m\u001b[1;32m    107\u001b[0m             \u001b[0mself\u001b[0m\u001b[0;34m.\u001b[0m\u001b[0m__cache\u001b[0m\u001b[0;34m[\u001b[0m\u001b[0mkey\u001b[0m\u001b[0;34m]\u001b[0m \u001b[0;34m=\u001b[0m \u001b[0mobj\u001b[0m\u001b[0;34m\u001b[0m\u001b[0m\n\u001b[1;32m    108\u001b[0m             \u001b[0;32mreturn\u001b[0m \u001b[0mobj\u001b[0m\u001b[0;34m\u001b[0m\u001b[0m\n",
      "\u001b[0;32m/home/lukas/Projects/MMEA/devel/mmea/classes/molecular.py\u001b[0m in \u001b[0;36m__init__\u001b[0;34m(self, prist_mol_file, minimal)\u001b[0m\n\u001b[1;32m   1768\u001b[0m         \u001b[0;31m# with the molecule the functional group has been subtituted\u001b[0m\u001b[0;34m\u001b[0m\u001b[0;34m\u001b[0m\u001b[0m\n\u001b[1;32m   1769\u001b[0m         \u001b[0;31m# with heavy atoms.\u001b[0m\u001b[0;34m\u001b[0m\u001b[0;34m\u001b[0m\u001b[0m\n\u001b[0;32m-> 1770\u001b[0;31m         \u001b[0mself\u001b[0m\u001b[0;34m.\u001b[0m\u001b[0m_generate_heavy_attrs\u001b[0m\u001b[0;34m(\u001b[0m\u001b[0;34m)\u001b[0m\u001b[0;34m\u001b[0m\u001b[0m\n\u001b[0m\u001b[1;32m   1771\u001b[0m \u001b[0;34m\u001b[0m\u001b[0m\n\u001b[1;32m   1772\u001b[0m     \u001b[0;32mdef\u001b[0m \u001b[0m_delete_tag_ids\u001b[0m\u001b[0;34m(\u001b[0m\u001b[0mself\u001b[0m\u001b[0;34m,\u001b[0m \u001b[0mheavy_atom\u001b[0m\u001b[0;34m)\u001b[0m\u001b[0;34m:\u001b[0m\u001b[0;34m\u001b[0m\u001b[0m\n",
      "\u001b[0;32m/home/lukas/Projects/MMEA/devel/mmea/classes/molecular.py\u001b[0m in \u001b[0;36m_generate_heavy_attrs\u001b[0;34m(self)\u001b[0m\n\u001b[1;32m   1857\u001b[0m         \u001b[0;31m# for heavy atoms and deletes Hydrogen atoms of the functional\u001b[0m\u001b[0;34m\u001b[0m\u001b[0;34m\u001b[0m\u001b[0m\n\u001b[1;32m   1858\u001b[0m         \u001b[0;31m# group as well as any other atoms tagged for deletion.\u001b[0m\u001b[0;34m\u001b[0m\u001b[0;34m\u001b[0m\u001b[0m\n\u001b[0;32m-> 1859\u001b[0;31m         \u001b[0mself\u001b[0m\u001b[0;34m.\u001b[0m\u001b[0m_make_atoms_heavy\u001b[0m\u001b[0;34m(\u001b[0m\u001b[0;34m)\u001b[0m\u001b[0;34m\u001b[0m\u001b[0m\n\u001b[0m\u001b[1;32m   1860\u001b[0m \u001b[0;34m\u001b[0m\u001b[0m\n\u001b[1;32m   1861\u001b[0m         \u001b[0;31m# Change the pristine ``.mol`` file name to include the word\u001b[0m\u001b[0;34m\u001b[0m\u001b[0;34m\u001b[0m\u001b[0m\n",
      "\u001b[0;32m/home/lukas/Projects/MMEA/devel/mmea/classes/molecular.py\u001b[0m in \u001b[0;36m_make_atoms_heavy\u001b[0;34m(self)\u001b[0m\n\u001b[1;32m   1902\u001b[0m         \u001b[0;31m# tagged for deletion will have its id added to ``del_ids``.\u001b[0m\u001b[0;34m\u001b[0m\u001b[0;34m\u001b[0m\u001b[0m\n\u001b[1;32m   1903\u001b[0m         \u001b[0mdel_ids\u001b[0m \u001b[0;34m=\u001b[0m \u001b[0;34m[\u001b[0m\u001b[0;34m]\u001b[0m\u001b[0;34m\u001b[0m\u001b[0m\n\u001b[0;32m-> 1904\u001b[0;31m         \u001b[0;32mfor\u001b[0m \u001b[0matom_id\u001b[0m \u001b[0;32min\u001b[0m \u001b[0mflatten\u001b[0m\u001b[0;34m(\u001b[0m\u001b[0mself\u001b[0m\u001b[0;34m.\u001b[0m\u001b[0mfind_functional_group_atoms\u001b[0m\u001b[0;34m(\u001b[0m\u001b[0;34m)\u001b[0m\u001b[0;34m)\u001b[0m\u001b[0;34m:\u001b[0m\u001b[0;34m\u001b[0m\u001b[0m\n\u001b[0m\u001b[1;32m   1905\u001b[0m             \u001b[0matom\u001b[0m \u001b[0;34m=\u001b[0m \u001b[0mself\u001b[0m\u001b[0;34m.\u001b[0m\u001b[0mheavy_mol\u001b[0m\u001b[0;34m.\u001b[0m\u001b[0mGetAtomWithIdx\u001b[0m\u001b[0;34m(\u001b[0m\u001b[0matom_id\u001b[0m\u001b[0;34m)\u001b[0m\u001b[0;34m\u001b[0m\u001b[0m\n\u001b[1;32m   1906\u001b[0m             \u001b[0;32mif\u001b[0m \u001b[0matom\u001b[0m\u001b[0;34m.\u001b[0m\u001b[0mGetAtomicNum\u001b[0m\u001b[0;34m(\u001b[0m\u001b[0;34m)\u001b[0m \u001b[0;34m==\u001b[0m \u001b[0mself\u001b[0m\u001b[0;34m.\u001b[0m\u001b[0mfunc_grp\u001b[0m\u001b[0;34m.\u001b[0m\u001b[0mtarget_atomic_num\u001b[0m\u001b[0;34m:\u001b[0m\u001b[0;34m\u001b[0m\u001b[0m\n",
      "\u001b[0;32m/home/lukas/Projects/MMEA/devel/mmea/classes/molecular.py\u001b[0m in \u001b[0;36mfind_functional_group_atoms\u001b[0;34m(self)\u001b[0m\n\u001b[1;32m   2059\u001b[0m         \u001b[0;31m# Generate a ``rdkit.Chem.rdchem.Mol`` instance which represents\u001b[0m\u001b[0;34m\u001b[0m\u001b[0;34m\u001b[0m\u001b[0m\n\u001b[1;32m   2060\u001b[0m         \u001b[0;31m# the functional group of the molecule.\u001b[0m\u001b[0;34m\u001b[0m\u001b[0;34m\u001b[0m\u001b[0m\n\u001b[0;32m-> 2061\u001b[0;31m         \u001b[0mfunc_grp_mol\u001b[0m \u001b[0;34m=\u001b[0m \u001b[0mchem\u001b[0m\u001b[0;34m.\u001b[0m\u001b[0mMolFromSmarts\u001b[0m\u001b[0;34m(\u001b[0m\u001b[0mself\u001b[0m\u001b[0;34m.\u001b[0m\u001b[0mfunc_grp\u001b[0m\u001b[0;34m.\u001b[0m\u001b[0msmarts_start\u001b[0m\u001b[0;34m)\u001b[0m\u001b[0;34m\u001b[0m\u001b[0m\n\u001b[0m\u001b[1;32m   2062\u001b[0m \u001b[0;34m\u001b[0m\u001b[0m\n\u001b[1;32m   2063\u001b[0m         \u001b[0;31m# Do a substructure search on the the molecule in `prist_mol`\u001b[0m\u001b[0;34m\u001b[0m\u001b[0;34m\u001b[0m\u001b[0m\n",
      "\u001b[0;31mAttributeError\u001b[0m: 'NoneType' object has no attribute 'smarts_start'"
     ]
    }
   ],
   "source": [
    "invalid_linker_path = os.path.join('mmea', 'notebook', 'molecule.mol')\n",
    "invalid_linker = StructUnit2(invalid_linker_path)\n"
   ]
  },
  {
   "cell_type": "markdown",
   "metadata": {},
   "source": [
    "There are many kinds of cages. The defining characteristic of a cage is its topology (shape). To see what topologies MMEA supports, run the command \"python -m mmea -h topologies\" in the terminal. In this example the topologies \"FourPlusSix\" (tetrahedron) and \"EightPlusTwelve\" (cube) will be used. The names reflect that 4 building blocks and 6 linkers are used in the tetrahedron, while 8 building blocks and 12 linkers are used in the cube."
   ]
  },
  {
   "cell_type": "code",
   "execution_count": 8,
   "metadata": {
    "collapsed": true
   },
   "outputs": [],
   "source": [
    "from mmea import FourPlusSix, EightPlusTwelve"
   ]
  },
  {
   "cell_type": "markdown",
   "metadata": {},
   "source": [
    "To build a cage you only need to provide the a list of component molecules, the topology and what the \".mol\" file of the cage should be called. You will also have to import the \"Cage\" class."
   ]
  },
  {
   "cell_type": "code",
   "execution_count": 9,
   "metadata": {
    "collapsed": false
   },
   "outputs": [],
   "source": [
    "from mmea import Cage\n",
    "components = (linker, building_block) # Order in the list/tuple does not matter.\n",
    "cage = Cage(components, FourPlusSix, 'tetrahedron.mol')\n"
   ]
  },
  {
   "cell_type": "markdown",
   "metadata": {},
   "source": [
    "Notice that a \"tetrahedron.mol\" file was created in your current working directory. It holds the newly assembled macromolecule. A version of it where the functional groups have been replaced by heavy atoms is also present in \"tetrahedron_HEAVY.mol\". A pickled copy of the \"cage\" object is held in \"tetrahedron.dmp\".\n",
    "\n",
    "To build the cube cage just replace the topology in the prevoius cell and provide a new name to store the varoius files:"
   ]
  },
  {
   "cell_type": "code",
   "execution_count": 12,
   "metadata": {
    "collapsed": true
   },
   "outputs": [],
   "source": [
    "cage2 = Cage(components, EightPlusTwelve, 'cube.mol')"
   ]
  },
  {
   "cell_type": "code",
   "execution_count": null,
   "metadata": {
    "collapsed": true
   },
   "outputs": [],
   "source": [
    "# 3+4 cages"
   ]
  }
 ],
 "metadata": {
  "anaconda-cloud": {},
  "kernelspec": {
   "display_name": "Python [conda root]",
   "language": "python",
   "name": "conda-root-py"
  },
  "language_info": {
   "codemirror_mode": {
    "name": "ipython",
    "version": 3
   },
   "file_extension": ".py",
   "mimetype": "text/x-python",
   "name": "python",
   "nbconvert_exporter": "python",
   "pygments_lexer": "ipython3",
   "version": "3.5.2"
  }
 },
 "nbformat": 4,
 "nbformat_minor": 1
}
